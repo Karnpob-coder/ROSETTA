{
 "cells": [
  {
   "cell_type": "markdown",
   "id": "85052f9c",
   "metadata": {},
   "source": [
    "# **Introduction**\n",
    "-----------------------------------------------------\n",
    "The following protocol describes computational methods used for analysis of per residues energy of VHH-antigen complexes for used as a references according to a proposal \" rational design of human-made focused library towards specific types of antibodies\". The protocol will capture Rosetta protocols applied for VHH analysis. All Rosetta codes used in this publication refers to version 3.8. All materials shown here can be downloaded from *https://github.com/Karnpob-coder/ROSETTA*"
   ]
  },
  {
   "cell_type": "markdown",
   "id": "069ed864",
   "metadata": {},
   "source": [
    "# **Structure download and preparation**\n",
    "-------------------------------------------------------\n",
    "All VHH structures in this study were retrieved from the structural antibody Database (SabDab) using searching filters as (1) VHH antibodies; (2) sub-3.5 A resolution, (3) antigen type protein or peptide, (4) non-redundant exclusion. Clustering of variable domain region, based on these amino acid sequences, was conducted using CD-HIT *http://weizhong-lab.ucsd.edu/cd-hit/* to eliminate redundancies by removing perfect matches for which the % id was 100%. PDB files of these filtered structures were download from the Protein DataBank followed by pre-processing that includes removing water and non-protein residues and residue re-numbering to start from residue 1. Then, structures were relaxed to avoid any clashed residues using a constrained FastRelax refinement protocol which restraint to starting coordinates of backbone VH atoms at a standard deviation of 0.5A. Finally, 10 relaxed structures were built and used an input complex. The best scoring relaxed structure was used for binding energy per residue analysis. The XML script and codes described below were used to run relaxation. Note that Binding energy per residue was calculated using a custom RosettaScripts XML protocol (Fleishman et al., 2011) that utilizes the REF2015 score function (Alford et al., 2017)."
   ]
  },
  {
   "cell_type": "markdown",
   "id": "221e0516",
   "metadata": {},
   "source": [
    "rlax.command:"
   ]
  },
  {
   "cell_type": "code",
   "execution_count": null,
   "id": "12dc6e24",
   "metadata": {},
   "outputs": [],
   "source": [
    "rosetta_scripts.default.linuxgccrelease @rlax.options \\ \n",
    "-s 4ZG1_HA.pdb -parser:protocol rlax_cst.xml"
   ]
  },
  {
   "cell_type": "markdown",
   "id": "23cebda3",
   "metadata": {},
   "source": [
    "rlax.options:"
   ]
  },
  {
   "cell_type": "code",
   "execution_count": null,
   "id": "a6c3cffe",
   "metadata": {},
   "outputs": [],
   "source": [
    "-in:file:fullatom\n",
    "-out:file:fullatom\n",
    "-out:pdb_gz\n",
    "-ex1\n",
    "-use_input_sc\n",
    "-nstruct 10\n",
    "-suffix _rlax_iface\n",
    "-scorefile rlax_iface.fasc\n",
    "-out:path:pdb models/"
   ]
  },
  {
   "cell_type": "markdown",
   "id": "805c0d07",
   "metadata": {},
   "source": [
    "rlax_cst.xml:"
   ]
  },
  {
   "cell_type": "code",
   "execution_count": null,
   "id": "4195ed70",
   "metadata": {},
   "outputs": [],
   "source": [
    "<ROSETTASCRIPTS>\n",
    "\t<SCOREFXNS>\n",
    "\t\t<ScoreFunction name=\"ref_cst\" weights=\"ref2015_cst.wts\" />\n",
    "\t\t<ScoreFunction name=\"ref\" weights=\"ref2015.wts\" />\n",
    "\t</SCOREFXNS>\n",
    "\t<FILTERS>\n",
    "\t</FILTERS>\n",
    "\t<TASKOPERATIONS>\n",
    "\t\t<InitializeFromCommandline name=\"ifcl\"/>\n",
    "\t\t<RestrictToRepacking name=\"rtr\"/>\n",
    "\t\t<RestrictToInterfaceVector name=\"rtiv\" chain1_num=\"1\" chain2_num=\"2\" CB_dist_cutoff=\"10.0\" nearby_atom_cutoff=\"5.5\" vector_angle_cutoff=\"75\" vector_dist_cutoff=\"9.0\" />\n",
    "\t</TASKOPERATIONS>\n",
    "\t<MOVERS>\n",
    "\t\t<PackRotamersMover name=\"repack\" task_operations=\"ifcl,rtr\" scorefxn=\"ref\" />\n",
    "\t\t<FastRelax name=\"relax\" task_operations=\"ifcl,rtr,rtiv\" scorefxn=\"ref_cst\" >\n",
    "\t\t\t<MoveMap name=\"mm\" >\n",
    "\t\t\t\t<Jump number=\"1\" setting=\"0\" />\n",
    "\t\t\t</MoveMap>\n",
    "\t\t</FastRelax>\n",
    "\t\t<AtomCoordinateCstMover name=\"cst\" />\n",
    "\t\t<VirtualRoot name=\"root\" removable=\"1\" />\n",
    "\t\t<VirtualRoot name=\"rmroot\" remove=\"1\" />\n",
    "\t</MOVERS>\n",
    "\t<PROTOCOLS>\n",
    "\t\t<Add mover_name=\"repack\" />\n",
    "\t\t<Add mover_name=\"root\" />\n",
    "\t\t<Add mover_name=\"cst\" />\n",
    "\t\t<Add mover_name=\"relax\"/>\n",
    "\t\t<Add mover_name=\"rmroot\" />\n",
    "\t</PROTOCOLS>\n",
    "\t<OUTPUT scorefxn=\"ref\" />\n",
    "</ROSETTASCRIPTS>"
   ]
  },
  {
   "cell_type": "markdown",
   "id": "a697fad0",
   "metadata": {},
   "source": [
    "# **Binding energy measurement**\n",
    "-----------------------------------\n",
    "To determine binding energy at the VHH-antigen interface, below XML script and codes shown below were used to measure the binding energy over the binding interface and per-residues energy of each interface residue."
   ]
  },
  {
   "cell_type": "markdown",
   "id": "498489d8",
   "metadata": {},
   "source": [
    "en_measure.command:"
   ]
  },
  {
   "cell_type": "code",
   "execution_count": null,
   "id": "fb62ef00",
   "metadata": {},
   "outputs": [],
   "source": [
    "rosetta_scripts.mpi.linuxgccrelease @en_measure.options \\\n",
    "-l best_decoys.list -scorefile ddg.fasc  \\\n",
    "-parser:protocol en_measure.xml"
   ]
  },
  {
   "cell_type": "markdown",
   "id": "de4edd70",
   "metadata": {},
   "source": [
    "en_measure.options:"
   ]
  },
  {
   "cell_type": "code",
   "execution_count": null,
   "id": "f8b46b66",
   "metadata": {},
   "outputs": [],
   "source": [
    "-in:file:fullatom\n",
    "-out:file:fullatom\n",
    "-out:pdb_gz\n",
    "-ex1\n",
    "-use_input_sc\n",
    "-nstruct 1\n",
    "-out:file:score_only\n",
    "-out:no_nstruct_label"
   ]
  },
  {
   "cell_type": "markdown",
   "id": "f2cb1445",
   "metadata": {},
   "source": [
    "en_measure.xml:"
   ]
  },
  {
   "cell_type": "code",
   "execution_count": null,
   "id": "dd60cd97",
   "metadata": {},
   "outputs": [],
   "source": [
    "<ROSETTASCRIPTS>\n",
    "\t<SCOREFXNS>\n",
    "\t\t<ScoreFunction name=\"ref_cst\" weights=\"ref2015_cst.wts\" />\n",
    "\t\t<ScoreFunction name=\"ref\" weights=\"ref2015.wts\" />\n",
    "\t</SCOREFXNS>\n",
    "\t<FILTERS>\n",
    "\t</FILTERS>\n",
    "\t<TASKOPERATIONS>\n",
    "\t\t<InitializeFromCommandline name=\"ifcl\"/>\n",
    "\t\t<RestrictToRepacking name=\"rtr\"/>\n",
    "\t\t<RestrictToInterfaceVector name=\"rtiv\" chain1_num=\"1\" chain2_num=\"2\" CB_dist_cutoff=\"10.0\" nearby_atom_cutoff=\"5.5\" vector_angle_cutoff=\"75\" vector_dist_cutoff=\"9.0\" />\n",
    "\t</TASKOPERATIONS>\n",
    "\t<MOVERS>\n",
    "\t\t<ddG name=\"ddg\" per_residue_ddg=\"1\" repack_unbound=\"1\" chain_num=\"1\" task_operations=\"rtiv,ifcl,rtr\" scorefxn=\"ref\" />\n",
    "\t</MOVERS>\n",
    "\t<PROTOCOLS>\n",
    "\t\t<Add mover_name=\"ddg\" />\n",
    "\t</PROTOCOLS>\n",
    "\t<OUTPUT scorefxn=\"ref\" />\n",
    "</ROSETTASCRIPTS>"
   ]
  }
 ],
 "metadata": {
  "kernelspec": {
   "display_name": "Python 3 (ipykernel)",
   "language": "python",
   "name": "python3"
  },
  "language_info": {
   "codemirror_mode": {
    "name": "ipython",
    "version": 3
   },
   "file_extension": ".py",
   "mimetype": "text/x-python",
   "name": "python",
   "nbconvert_exporter": "python",
   "pygments_lexer": "ipython3",
   "version": "3.9.7"
  }
 },
 "nbformat": 4,
 "nbformat_minor": 5
}
